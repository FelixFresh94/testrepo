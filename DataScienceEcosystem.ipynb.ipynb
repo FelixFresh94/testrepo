{
 "cells": [
  {
   "cell_type": "markdown",
   "id": "650104c5-8d9c-4846-abaf-4d56a562ef15",
   "metadata": {},
   "source": [
    "# Data Science Tools and Ecosystem\n",
    "In this notebook, Data Science Tools and Ecosystem are summarized.\n",
    "\n"
   ]
  },
  {
   "cell_type": "markdown",
   "id": "a9967210-69f1-4755-895d-0edbd2b3d941",
   "metadata": {},
   "source": [
    "**Objectives**\n",
    "- Learn data science\n",
    "- Implement it practically"
   ]
  },
  {
   "cell_type": "markdown",
   "id": "94260589-e63c-4eec-9cfb-6445d6439fa0",
   "metadata": {},
   "source": [
    "## Some of the popular languages that Data Scientists use are:\n",
    "- 1 Phytom\n",
    "- 2 SQL\n",
    "- 3 R"
   ]
  },
  {
   "cell_type": "markdown",
   "id": "345f1a68-1ab8-4bf7-892f-31a93300a3b1",
   "metadata": {},
   "source": [
    "## Data Science Libraries\n",
    "\n",
    "Some of the commonly used libraries used by Data Scientists include:\n",
    "\n",
    "1. **NumPy**: A fundamental package for scientific computing with Python, providing support for arrays, mathematical functions, and more.\n",
    "2. **Pandas**: A powerful data manipulation and analysis library that offers data structures like DataFrames for handling structured data.\n",
    "3. **Matplotlib**: A plotting library for creating static, animated, and interactive visualizations in Python.\n",
    "4. **SciPy**: A library used for scientific and technical computing, building on NumPy and providing a wide range of functionality including optimization, integration, and statistical analysis."
   ]
  },
  {
   "cell_type": "markdown",
   "id": "9bcb1ab9-a0ff-46ef-be78-34cf57fb4f47",
   "metadata": {},
   "source": [
    "These libraries form the backbone of many data science projects and are essential tools for data scientists.\n",
    "\n",
    "| Data Science Tools |\n",
    "|--------------------|\n",
    "| Jupyter Notebook   |\n",
    "| RStudio            |\n",
    "| Apache Zeppelin    |"
   ]
  },
  {
   "cell_type": "markdown",
   "id": "43fb630e-0537-4502-8336-97dfdc9cab1b",
   "metadata": {},
   "source": [
    "### Below are a few examples of evaluating arithmetic expressions in Python."
   ]
  },
  {
   "cell_type": "code",
   "execution_count": 1,
   "id": "7bb5b842-1d7c-4f73-a7d2-5df43fbfe1bd",
   "metadata": {
    "tags": []
   },
   "outputs": [
    {
     "data": {
      "text/plain": [
       "17"
      ]
     },
     "execution_count": 1,
     "metadata": {},
     "output_type": "execute_result"
    }
   ],
   "source": [
    "# This is a simple arithmetic expression to multiply then add integers\n",
    "result = (3 * 4) + 5\n",
    "result"
   ]
  },
  {
   "cell_type": "code",
   "execution_count": 3,
   "id": "fc89c7f6-1578-49ad-b0f2-bc3dc2e8d802",
   "metadata": {
    "tags": []
   },
   "outputs": [
    {
     "name": "stdout",
     "output_type": "stream",
     "text": [
      "200 minutes is equal to 3.3333333333333335 hours\n"
     ]
    }
   ],
   "source": [
    "# This will convert 200 minutes to hours by dividing by 60\n",
    "minutes = 200\n",
    "hours = minutes / 60\n",
    "print(f\"{minutes} minutes is equal to {hours} hours\") "
   ]
  },
  {
   "cell_type": "markdown",
   "id": "88c9a3f9-60ad-4016-93af-002c2da2b23f",
   "metadata": {},
   "source": [
    "## Author\n",
    "\n",
    "Félix "
   ]
  },
  {
   "cell_type": "code",
   "execution_count": null,
   "id": "aaa9611e-42d9-4dff-b470-8d5982502db5",
   "metadata": {},
   "outputs": [],
   "source": []
  }
 ],
 "metadata": {
  "kernelspec": {
   "display_name": "Python",
   "language": "python",
   "name": "conda-env-python-py"
  },
  "language_info": {
   "codemirror_mode": {
    "name": "ipython",
    "version": 3
   },
   "file_extension": ".py",
   "mimetype": "text/x-python",
   "name": "python",
   "nbconvert_exporter": "python",
   "pygments_lexer": "ipython3",
   "version": "3.7.12"
  }
 },
 "nbformat": 4,
 "nbformat_minor": 5
}
